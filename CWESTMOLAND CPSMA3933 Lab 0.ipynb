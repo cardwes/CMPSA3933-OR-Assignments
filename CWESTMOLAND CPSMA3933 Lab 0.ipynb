{
  "metadata": {
    "kernelspec": {
      "name": "python",
      "display_name": "Python (Pyodide)",
      "language": "python"
    },
    "language_info": {
      "codemirror_mode": {
        "name": "python",
        "version": 3
      },
      "file_extension": ".py",
      "mimetype": "text/x-python",
      "name": "python",
      "nbconvert_exporter": "python",
      "pygments_lexer": "ipython3",
      "version": "3.8"
    }
  },
  "nbformat_minor": 5,
  "nbformat": 4,
  "cells": [
    {
      "id": "450e497d",
      "cell_type": "markdown",
      "source": "# Carter Westmoland  \n## Class: *CPSMA 3933*  \n## Assignment: **Computer Lab 0**  \n\n> *Date:* 2025-09-02\n\n---",
      "metadata": {}
    },
    {
      "id": "cb07843c-5735-4a96-913d-dd7b8cc6b821",
      "cell_type": "markdown",
      "source": "## Favorite Function: `for` Loop\n\nI really like the **`for`** loop because it lets me repeat actions efficiently.  \nWith a `for` loop, I can iterate over items in a list, string, or range without writing repetitive code.  \nIt makes tasks like calculations, printing, and data manipulation much easier.\n\n**Example:**\n```python\nfor i in range(1, 6):\n    print(f\"Square of {i} is {i**2}\")\n# Output:\n# Square of 1 is 1\n# Square of 2 is 4\n# Square of 3 is 9\n# Square of 4 is 16\n# Square of 5 is 25\n```\n",
      "metadata": {}
    },
    {
      "id": "08ee7f8d",
      "cell_type": "markdown",
      "source": "## Random Value List\n\nI generated a list of 10 random integers between 1 and 100 using Python’s `random.sample()` function.  \nThis function selects a specified number of random values from a given range.  \nThat means every number in the list will be different (no duplicates).\n\nAfter creating the list, I computed the **sum, minimum, maximum, and average** values.\n\n**Example:**",
      "metadata": {}
    },
    {
      "id": "65c754da",
      "cell_type": "code",
      "source": "import random\n\n# Generate 10 unique random numbers between 1 and 100\nvalues = random.sample(range(1, 101), 10)\n\n# Compute len, sum, min, max, and mean\nsummary = {\n    \"values\": values,\n    \"count\": len(values),\n    \"sum\": sum(values),\n    \"min\": min(values),\n    \"max\": max(values),\n    \"mean\": round(sum(values) / len(values), 2)\n}\n\n# Calling summary to display values\nsummary",
      "metadata": {
        "trusted": true
      },
      "outputs": [
        {
          "execution_count": 5,
          "output_type": "execute_result",
          "data": {
            "text/plain": "{'values': [48, 16, 67, 26, 10, 42, 40, 87, 49, 72],\n 'count': 10,\n 'sum': 457,\n 'min': 10,\n 'max': 87,\n 'mean': 45.7}"
          },
          "metadata": {}
        }
      ],
      "execution_count": 5
    }
  ]
}