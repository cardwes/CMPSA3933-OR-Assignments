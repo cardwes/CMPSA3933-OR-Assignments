{
  "metadata": {
    "kernelspec": {
      "name": "python",
      "display_name": "Python (Pyodide)",
      "language": "python"
    },
    "language_info": {
      "codemirror_mode": {
        "name": "python",
        "version": 3
      },
      "file_extension": ".py",
      "mimetype": "text/x-python",
      "name": "python",
      "nbconvert_exporter": "python",
      "pygments_lexer": "ipython3",
      "version": "3.8"
    },
    "colab": {
      "provenance": [],
      "authorship_tag": "ABX9TyNDThpM+NG7uP4N7IeWn0GM",
      "include_colab_link": true
    }
  },
  "nbformat_minor": 4,
  "nbformat": 4,
  "cells": [
    {
      "cell_type": "markdown",
      "source": "# Carter Westmoland  \n## Class: *CPSMA 3933*  \n## Assignment: **Computer Lab 2**  \n\n> *Date:* 2025-09-16\n\n---",
      "metadata": {
        "id": "view-in-github",
        "colab_type": "text"
      }
    },
    {
      "cell_type": "markdown",
      "source": "# Problem Solving",
      "metadata": {
        "id": "jRaIKW6MbtEr"
      }
    },
    {
      "cell_type": "markdown",
      "source": "## Factorials\n\nA factorial is the product of all previous numbers and is expressed with an exclamation $!$.  Thus\n$$\n3! = 3\\cdot 2\\cdot 1 = 6\n$$\n\nand\n$$\nn! = n(n-1)(n-2)\\cdots3\\cdot2\\cdot1\n$$\n\nHow many zeros does $1000!$ end with?  Please do not count them in the number below as the precision may be off!",
      "metadata": {
        "id": "ABJslq5hb0Z-"
      }
    },
    {
      "cell_type": "code",
      "source": "import math\n\nmath.factorial(1000)",
      "metadata": {
        "colab": {
          "base_uri": "https://localhost:8080/"
        },
        "id": "LfbWxWvKbsQb",
        "outputId": "4a9abe4f-5f94-40c8-c172-ff4f745dc9e6"
      },
      "outputs": [
        {
          "output_type": "execute_result",
          "data": {
            "text/plain": [
              "402387260077093773543702433923003985719374864210714632543799910429938512398629020592044208486969404800479988610197196058631666872994808558901323829669944590997424504087073759918823627727188732519779505950995276120874975462497043601418278094646496291056393887437886487337119181045825783647849977012476632889835955735432513185323958463075557409114262417474349347553428646576611667797396668820291207379143853719588249808126867838374559731746136085379534524221586593201928090878297308431392844403281231558611036976801357304216168747609675871348312025478589320767169132448426236131412508780208000261683151027341827977704784635868170164365024153691398281264810213092761244896359928705114964975419909342221566832572080821333186116811553615836546984046708975602900950537616475847728421889679646244945160765353408198901385442487984959953319101723355556602139450399736280750137837615307127761926849034352625200015888535147331611702103968175921510907788019393178114194545257223865541461062892187960223838971476088506276862967146674697562911234082439208160153780889893964518263243671616762179168909779911903754031274622289988005195444414282012187361745992642956581746628302955570299024324153181617210465832036786906117260158783520751516284225540265170483304226143974286933061690897968482590125458327168226458066526769958652682272807075781391858178889652208164348344825993266043367660176999612831860788386150279465955131156552036093988180612138558600301435694527224206344631797460594682573103790084024432438465657245014402821885252470935190620929023136493273497565513958720559654228749774011413346962715422845862377387538230483865688976461927383814900140767310446640259899490222221765904339901886018566526485061799702356193897017860040811889729918311021171229845901641921068884387121855646124960798722908519296819372388642614839657382291123125024186649353143970137428531926649875337218940694281434118520158014123344828015051399694290153483077644569099073152433278288269864602789864321139083506217095002597389863554277196742822248757586765752344220207573630569498825087968928162753848863396909959826280956121450994871701244516461260379029309120889086942028510640182154399457156805941872748998094254742173582401063677404595741785160829230135358081840096996372524230560855903700624271243416909004153690105933983835777939410970027753472000000000000000000000000000000000000000000000000000000000000000000000000000000000000000000000000000000000000000000000000000000000000000000000000000000000000000000000000000000000000000000000000000000000000000000000000000000000000000000000000000000000"
            ]
          },
          "metadata": {},
          "execution_count": 5
        }
      ],
      "execution_count": 5
    },
    {
      "cell_type": "code",
      "source": "def count_total(n):\n    # stores total number of zeros\n    count = 0\n    while n >= 5:\n        # count how many multiples of 5, 25, 125, ... are in n\n        n //= 5     \n        # add that to the total count of factors of 5\n        count += n     \n    # total number of zeros\n    return count       \n\n# replace 1000 with number of choice if needed\nprint(count_total(1000))",
      "metadata": {
        "trusted": true
      },
      "outputs": [
        {
          "name": "stdout",
          "output_type": "stream",
          "text": "249\n"
        }
      ],
      "execution_count": 2
    },
    {
      "cell_type": "markdown",
      "source": "---\n## Big Numbers\n\nThe sum of the digits of the number $100^{13}-26$ is how much?",
      "metadata": {
        "id": "yZpb4Ghbc4Zo"
      }
    },
    {
      "cell_type": "markdown",
      "source": "Here is how I thought to approach the problem...",
      "metadata": {
        "id": "V8ptErrNicgC"
      }
    },
    {
      "cell_type": "code",
      "source": "x = '8675309'\nx",
      "metadata": {
        "colab": {
          "base_uri": "https://localhost:8080/",
          "height": 35
        },
        "id": "SMGHYyFjcbTs",
        "outputId": "4f942020-7c54-46b2-e4e8-697a7b15e990"
      },
      "outputs": [
        {
          "output_type": "execute_result",
          "data": {
            "text/plain": [
              "'8675309'"
            ],
            "application/vnd.google.colaboratory.intrinsic+json": {
              "type": "string"
            }
          },
          "metadata": {},
          "execution_count": 10
        }
      ],
      "execution_count": 10
    },
    {
      "cell_type": "code",
      "source": "listofx = [int(digit) for digit in x]\n\nlistofx",
      "metadata": {
        "colab": {
          "base_uri": "https://localhost:8080/"
        },
        "id": "lisdG2RhiMEw",
        "outputId": "083c4b84-b445-4c08-ea74-b96d17384d36"
      },
      "outputs": [
        {
          "output_type": "execute_result",
          "data": {
            "text/plain": [
              "[8, 6, 7, 5, 3, 0, 9]"
            ]
          },
          "metadata": {},
          "execution_count": 11
        }
      ],
      "execution_count": 11
    },
    {
      "cell_type": "markdown",
      "source": "### Here is how I approached the problem",
      "metadata": {}
    },
    {
      "cell_type": "code",
      "source": "# Calculate 100^13 - 26\nn = 100**13 - 26\n\n# Convert to string, map each character back to int, and sum\ndigit_sum = sum(int(d) for d in str(n))\n\nprint(\"Number:\", n)\nprint(\"Sum of digits:\", digit_sum)",
      "metadata": {
        "trusted": true
      },
      "outputs": [
        {
          "name": "stdout",
          "output_type": "stream",
          "text": "Number: 99999999999999999999999974\nSum of digits: 227\n"
        }
      ],
      "execution_count": 5
    },
    {
      "cell_type": "markdown",
      "source": "---\n## Handshakes\n\nTwo soccer teams have just finished their game.  The two teams of 11 all shake hands and the winning team also shakes hand with each other.  How many handshakes have occured?\n\n### Between the two teams\n\n- There are **11 players on each team**.\n- Every player on team A shakes hands with every player on team B:\n\n$$\n11 \\times 11 = 121\\quad \\text{handshakes}\n$$\n\n\n### Winning team shakes among themselves\n\n- Within one team of **11 players**, each pair shakes hands once.\n- The number of ways to pick pairs from 11 people is:\n\n$$\n\\binom{11}{2} = \\frac{11 \\times 10}{2} = 55\\quad \\text{handshakes}\n$$\n\n### Total handshakes\n\n$$\n121 + 55 = 176\n$$\n\n",
      "metadata": {
        "id": "5p6sa9qZio6Z"
      }
    },
    {
      "cell_type": "markdown",
      "source": "---\n## Harder Handshakes\n\nMr. Smith and his wife invited four other couples for a dinner party.  When everyone arrived, handshakes were exchanged with some of the others.  Of course no one shook hands with their spouse and nobody shook hands with the same person twice.\n\nMr. Smith asked everyone how many times they shook hands.  He recieved a different answer from each person.\n\nHow many times did Mr. Smith shake hands?\n\n### Possible handshake counts\n\n- There are **5 couples** = 10 people total.\n- Each person could have shaken hands with between **0 and 8** people (everyone except themselves and their spouse).\n- Since Mr. Smith received **9 different answers**, the set of answers must be:\n\n$$\n\\{0, 1, 2, 3, 4, 5, 6, 7, 8\\}\n$$\n\n\nIn handshake problem, the **spouses’ handshake counts add to 8**:\n- If one person shakes $k$ hands, their spouse must have shaken $8-k$ hands.\nSo the pairs of counts must be:\n\n$$\n(0,8), \\quad (1,7), \\quad (2,6), \\quad (3,5), \\quad (4,4)\n$$\n\nThe only number that pairs with itself is **4**.\n- Among the 9 respondents, the one whose spouse did not respond is **Mrs. Smith**.\n- Therefore, Mrs. Smith shook **4** hands.\n- Since spouses do not shake each other’s hands, **Mr. Smith** must also have shaken:\n\n$$\n4 \\quad \\text{handshakes}\n$$\n",
      "metadata": {
        "id": "g4ypceUKjJrp"
      }
    }
  ]
}