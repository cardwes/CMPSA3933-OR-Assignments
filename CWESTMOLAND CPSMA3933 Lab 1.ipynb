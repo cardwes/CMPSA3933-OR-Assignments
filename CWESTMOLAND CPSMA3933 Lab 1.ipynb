{
  "metadata": {
    "kernelspec": {
      "name": "python",
      "display_name": "Python (Pyodide)",
      "language": "python"
    },
    "language_info": {
      "codemirror_mode": {
        "name": "python",
        "version": 3
      },
      "file_extension": ".py",
      "mimetype": "text/x-python",
      "name": "python",
      "nbconvert_exporter": "python",
      "pygments_lexer": "ipython3",
      "version": "3.8"
    }
  },
  "nbformat_minor": 5,
  "nbformat": 4,
  "cells": [
    {
      "id": "1230c009-1984-4ee4-8385-e3ec9e89ce06",
      "cell_type": "markdown",
      "source": "# Carter Westmoland  \n## Class: *CPSMA 3933*  \n## Assignment: **Computer Lab 1**  \n\n> *Date:* 2025-09-011\n\n---",
      "metadata": {}
    },
    {
      "id": "4216a3e4-9a5c-402a-b7c7-7fa766faf4e4",
      "cell_type": "markdown",
      "source": "## Taxes:\n\nThis code figures out how much federal income tax someone with a **$50,000** income would pay in 2023. It checks which tax bracket the income belongs to, then calculates the tax by combining the fixed amount from earlier brackets with the percentage for the current bracket. After finding the total tax, it subtracts that from the income to get the take-home pay, and prints both numbers.\n\n**Example:**",
      "metadata": {}
    },
    {
      "id": "ae3fa9ef-12fa-4e3f-b0ae-e0265b730262",
      "cell_type": "code",
      "source": "income = 50000.0 \n\n# calculate tax due based on 2023 single filer brackets\nif income <= 11000:\n    tax_due = 0.10 * income\nelif income <= 44725:\n    tax_due = 1100 + 0.12 * (income - 11000)\nelif income <= 95375:\n    tax_due = 5147 + 0.22 * (income - 44725)\nelif income <= 182100:\n    tax_due = 16290 + 0.24 * (income - 95375)\nelif income <= 231250:\n    tax_due = 37104 + 0.32 * (income - 182100)\nelif income <= 578125:\n    tax_due = 52832 + 0.35 * (income - 231250)\nelse:\n    tax_due = 174238.25 + 0.37 * (income - 578125)\n\ntake_home = income - tax_due  # after-tax income\n\n# show results\nprint(\"Tax due:\", tax_due)\nprint(\"Take-home:\", take_home)",
      "metadata": {
        "trusted": true
      },
      "outputs": [
        {
          "name": "stdout",
          "output_type": "stream",
          "text": "Tax due: 6307.5\nTake-home: 43692.5\n"
        }
      ],
      "execution_count": 1
    },
    {
      "id": "29ede0ca-16ce-4cfb-8aad-be2f0c60563b",
      "cell_type": "markdown",
      "source": "## Lists\n\nPerhaps the greatest strength of Python is iterating over lists. Use the difference formula of calculus to show that the derivative of $\\ln(x)$ at $x=1$ is 1.\n\nIn other words, show that as $h$ gets smaller and smaller $\\frac{\\ln(1+h) - \\ln(1)}{h}$ approaches 1. Mathematically we write this as\n\n$$\n\\lim_{h \\to 0} \\frac{\\ln(1+h) - \\ln(1)}{h} = 1\n$$\n\nUse the list provided below:\n\n```python\nh = [1, 0.1, 0.001, 0.002, 0.0001, 0.0000000001]\n",
      "metadata": {}
    },
    {
      "id": "33551b10-ec0e-4fa8-a2f5-74c5e46707d4",
      "cell_type": "code",
      "source": "import math\n\n# given h values\nh = [1, 0.1, 0.001, 0.002, 0.0001, 0.0000000001]\n\n# compute (ln(1+h)-ln(1))/h = ln(1+h)/h\nfor value in h:\n    approx_d = math.log(1 + value) / value\n    print(f\"h = {value:<10} approximated derivative = {approx_d}\")",
      "metadata": {
        "trusted": true
      },
      "outputs": [
        {
          "name": "stdout",
          "output_type": "stream",
          "text": "h = 1          approximated derivative = 0.6931471805599453\nh = 0.1        approximated derivative = 0.9531017980432493\nh = 0.001      approximated derivative = 0.9995003330834232\nh = 0.002      approximated derivative = 0.9990013313365289\nh = 0.0001     approximated derivative = 0.9999500033329731\nh = 1e-10      approximated derivative = 1.000000082690371\n"
        }
      ],
      "execution_count": 31
    },
    {
      "id": "50dd1d91-9fe9-426b-b12a-a7d43b1cd51a",
      "cell_type": "markdown",
      "source": "## Truth of Summation\n\nVerify the following summation formula using Python for all $n$ where $n \\in \\mathbb{Z}$ and $n \\leq 1000$.\n\n$$\n\\sum_{i = 0}^n i^3 = \\left(\\frac{n(n+1)}{2}\\right)^2\n$$\n",
      "metadata": {}
    },
    {
      "id": "d6517367-33a8-48a8-9619-39918463cb5d",
      "cell_type": "code",
      "source": "# Verify the summation formula for all n <= 1000\n\nvalid = True                                       # assume formula is correct at the start\n\nfor n in range(1001):\n    lhs = sum(i**3 for i in range(n+1))            # sum of cubes\n    rhs = (n*(n+1)//2)**2                          # formula\n    \n    if lhs != rhs:                                 # if false, will print where formula fails\n        print(f\"Formula fails at n = {n}\")\n        valid = False\n        break\n\nif valid:\n    print(\"The formula holds for all n from 0 to 1000.\")",
      "metadata": {
        "trusted": true
      },
      "outputs": [
        {
          "name": "stdout",
          "output_type": "stream",
          "text": "The formula holds for all n from 0 to 1000.\n"
        }
      ],
      "execution_count": 30
    },
    {
      "id": "f810f97c-2ab3-466b-bffe-5518de1eb0e7",
      "cell_type": "code",
      "source": "# Verify the summation formula for all n <= 1000\n\nresult = all(\n    sum(i**3 for i in range(n+1)) == (n*(n+1)//2)**2     # sum of cubes == formula\n    for n in range(1001)                                 # for all n \n)\n\n# Result will print True if the formula holds for every n, False otherwise\nprint(result)\n",
      "metadata": {
        "trusted": true
      },
      "outputs": [
        {
          "name": "stdout",
          "output_type": "stream",
          "text": "True\n"
        }
      ],
      "execution_count": 29
    }
  ]
}